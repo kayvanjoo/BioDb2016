{
 "cells": [
  {
   "cell_type": "markdown",
   "metadata": {},
   "source": [
    "# If the implementation is hard to explain, it’s a bad idea."
   ]
  },
  {
   "cell_type": "markdown",
   "metadata": {},
   "source": [
    "# Why Something is hard?"
   ]
  },
   {
   "cell_type": "markdown",
   "metadata": {},
   "source": [
    "# What will happen if you cant explain it?"
   ]
  },
  {
   "cell_type": "markdown",
   "metadata": {},
   "source": [
    "# Swap two position values in a list"
   ]
  },
  {
   "cell_type": "code",
   "execution_count": null,
   "metadata": {
    "collapsed": false
   },
  {
   "outputs": [],
   "source": [
    "#BAD\n",
    "swap = lambda a, x, y:\n",
    "lambda f = a.__setitem__:\n",
    "(f(x, (a[x], a[y])), f(y, a[x][0]), f(x, a[x][1]))()"
   ]
  },
  {
   "cell_type": "code",
   "execution_count": null,
   "metadata": {
    "collapsed": false
   },
   "outputs": [],
   "source": [
    "#BAD\n",
    "foo = [1, 2, 3]\n",
    "for i, item in zip(range(len(foo)), foo):\n",
    "    print (i, item)"
   ]
  },
  {
   "cell_type": "markdown",
   "metadata": {},
   "source": [
    "# If you can’t say it, don’t do it"
   ]
  },
  {
   "cell_type": "code",
   "execution_count": null,
   "metadata": {
    "collapsed": false
   },
   "outputs": [],
   "source": [
    "#goood\n",
    "foo = [1, 2, 3]\n",
    "for i, item in enumerate(foo):\n",
    "    print (i, item)"
   ]
  },
  {
   "cell_type": "code",
   "execution_count": null,
   "metadata": {
    "collapsed": true
   },
   "outputs": [],
   "source": [
    "#good\n",
    "def swap(a, x, y):\n",
    "\"\"\" Swap two position values in a list \"\"\"\n",
    "a[x],a[y] = a[y],a[x]"
   ]
  }
 ],
 "metadata": {
  "kernelspec": {
   "display_name": "Python 3",
   "language": "python",
   "name": "python3"
  },
  "language_info": {
   "codemirror_mode": {
    "name": "ipython",
    "version": 3
   },
   "file_extension": ".py",
   "mimetype": "text/x-python",
   "name": "python",
   "nbconvert_exporter": "python",
   "pygments_lexer": "ipython3",
   "version": "3.5.1"
  }
 },
 "nbformat": 4,
 "nbformat_minor": 0
}
