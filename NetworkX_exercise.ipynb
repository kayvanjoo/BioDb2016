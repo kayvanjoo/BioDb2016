{
 "cells": [
  {
   "cell_type": "markdown",
   "metadata": {},
   "source": [
    "# NetworkX exercise "
   ]
  },
  {
   "cell_type": "code",
   "execution_count": 2,
   "metadata": {
    "collapsed": false
   },
   "outputs": [],
   "source": [
    "%matplotlib inline\n",
    "import networkx as nx\n",
    "import vis_bel\n",
    "import os\n",
    "import pickle\n",
    "import imp\n",
    "import numpy as np\n",
    "import itertools as itt"
   ]
  },
  {
   "cell_type": "code",
   "execution_count": 3,
   "metadata": {
    "collapsed": true
   },
   "outputs": [],
   "source": [
    "base = os.environ['BUG_FREE_EUREKA_BASE']\n",
    "path_networkx_AD_pickled =os.path.join(base,'data','exercise05','networkx.graph.AD.pickled')"
   ]
  },
  {
   "cell_type": "markdown",
   "metadata": {},
   "source": [
    "## Loading Alzheimer's disease network into networkX graph with pickle"
   ]
  },
  {
   "cell_type": "code",
   "execution_count": 4,
   "metadata": {
    "collapsed": false
   },
   "outputs": [],
   "source": [
    "graph_AD = pickle.load(open(path_networkx_AD_pickled,'rb'))"
   ]
  },
  {
   "cell_type": "markdown",
   "metadata": {},
   "source": [
    "Here some words about [pickle](https://docs.python.org/3/library/pickle.html)"
   ]
  },
  {
   "cell_type": "code",
   "execution_count": 5,
   "metadata": {
    "collapsed": false
   },
   "outputs": [
    {
     "data": {
      "text/plain": [
       "networkx.classes.multidigraph.MultiDiGraph"
      ]
     },
     "execution_count": 5,
     "metadata": {},
     "output_type": "execute_result"
    }
   ],
   "source": [
    "type(graph_AD)"
   ]
  },
  {
   "cell_type": "markdown",
   "metadata": {},
   "source": [
    "### Explore"
   ]
  },
  {
   "cell_type": "code",
   "execution_count": 6,
   "metadata": {
    "collapsed": false
   },
   "outputs": [
    {
     "data": {
      "text/plain": [
       "(11927, 11927, 11927)"
      ]
     },
     "execution_count": 6,
     "metadata": {},
     "output_type": "execute_result"
    }
   ],
   "source": [
    "len(graph_AD),len(graph_AD.nodes()), graph_AD.number_of_nodes()  # number of nodes"
   ]
  },
  {
   "cell_type": "code",
   "execution_count": 7,
   "metadata": {
    "collapsed": false
   },
   "outputs": [
    {
     "data": {
      "text/plain": [
       "59408"
      ]
     },
     "execution_count": 7,
     "metadata": {},
     "output_type": "execute_result"
    }
   ],
   "source": [
    "graph_AD.number_of_edges() # number of nodes"
   ]
  },
  {
   "cell_type": "code",
   "execution_count": 8,
   "metadata": {
    "collapsed": false
   },
   "outputs": [
    {
     "data": {
      "text/plain": [
       "{2: {0: {'Subgraph': ('Non-amyloidogenic pathway', 'Gamma secretase pathway'),\n",
       "   'citation': ('Other', 'Connectors', '123'),\n",
       "   'evidence': 'The statements inside this citation is included to connect two entity types or triples, which will exist as islands/subnetworks in the big model.',\n",
       "   'object_activity': 'act',\n",
       "   'rel': 'decreases'},\n",
       "  1: {'DiseaseState': ('Mild AD',),\n",
       "   'FDASTATUS': ('Phase 3',),\n",
       "   'Subgraph': ('Notch pathway', 'Gamma secretase pathway'),\n",
       "   'citation': ('PubMed', 'Curr Med Chem. 2011;18(35):5430-47', '22087836'),\n",
       "   'evidence': 'gamma-Secretase inhibitor believed to be associated with the inhibition of the cleavage of Notch, a transmembrane receptor involved in regulating cell-fate decisions.',\n",
       "   'object_activity': 'pep',\n",
       "   'rel': 'decreases'}},\n",
       " 1828: {0: {'DiseaseState': ('Mild AD',),\n",
       "   'FDASTATUS': ('Phase 3',),\n",
       "   'Subgraph': ('Notch pathway', 'Gamma secretase pathway'),\n",
       "   'citation': ('PubMed', 'Curr Med Chem. 2011;18(35):5430-47', '22087836'),\n",
       "   'evidence': 'gamma-Secretase inhibitor believed to be associated with the inhibition of the cleavage of Notch, a transmembrane receptor involved in regulating cell-fate decisions.',\n",
       "   'rel': 'decreases'}}}"
      ]
     },
     "execution_count": 8,
     "metadata": {},
     "output_type": "execute_result"
    }
   ],
   "source": [
    "graph_AD[1] # node 1 connections with edge information"
   ]
  },
  {
   "cell_type": "code",
   "execution_count": 9,
   "metadata": {
    "collapsed": false
   },
   "outputs": [
    {
     "data": {
      "text/plain": [
       "dict_keys([2, 1828])"
      ]
     },
     "execution_count": 9,
     "metadata": {},
     "output_type": "execute_result"
    }
   ],
   "source": [
    "graph_AD[1].keys() # nodes ids connected to node 1 "
   ]
  },
  {
   "cell_type": "code",
   "execution_count": 10,
   "metadata": {
    "collapsed": false
   },
   "outputs": [
    {
     "data": {
      "text/plain": [
       "dict_keys([0, 1])"
      ]
     },
     "execution_count": 10,
     "metadata": {},
     "output_type": "execute_result"
    }
   ],
   "source": [
    "graph_AD[1][2].keys()"
   ]
  },
  {
   "cell_type": "code",
   "execution_count": 11,
   "metadata": {
    "collapsed": false
   },
   "outputs": [
    {
     "data": {
      "text/plain": [
       "'decreases'"
      ]
     },
     "execution_count": 11,
     "metadata": {},
     "output_type": "execute_result"
    }
   ],
   "source": [
    "graph_AD[1][2][0].get('rel')"
   ]
  },
  {
   "cell_type": "code",
   "execution_count": 12,
   "metadata": {
    "collapsed": false
   },
   "outputs": [
    {
     "data": {
      "text/plain": [
       "[1, 2]"
      ]
     },
     "execution_count": 12,
     "metadata": {},
     "output_type": "execute_result"
    }
   ],
   "source": [
    "graph_AD.nodes()[:2] # all nodes"
   ]
  },
  {
   "cell_type": "code",
   "execution_count": 13,
   "metadata": {
    "collapsed": false
   },
   "outputs": [
    {
     "data": {
      "text/plain": [
       "[(1,\n",
       "  {'BEL': 'a(CHEBI:\"gamma-secretase inhibitor\")',\n",
       "   'function': 'a',\n",
       "   'namespace': 'CHEBI',\n",
       "   'value': 'gamma-secretase inhibitor'}),\n",
       " (2,\n",
       "  {'BEL': 'complex(SCOMP:\"gamma Secretase Complex\")',\n",
       "   'function': 'complex',\n",
       "   'namespace': 'SCOMP',\n",
       "   'value': '\"gamma Secretase Complex\"'})]"
      ]
     },
     "execution_count": 13,
     "metadata": {},
     "output_type": "execute_result"
    }
   ],
   "source": [
    "graph_AD.nodes(data=True)[:2]"
   ]
  },
  {
   "cell_type": "code",
   "execution_count": 14,
   "metadata": {
    "collapsed": false
   },
   "outputs": [
    {
     "data": {
      "text/plain": [
       "[(1, 2), (1, 2)]"
      ]
     },
     "execution_count": 14,
     "metadata": {},
     "output_type": "execute_result"
    }
   ],
   "source": [
    "graph_AD.edges()[:2]"
   ]
  },
  {
   "cell_type": "code",
   "execution_count": 15,
   "metadata": {
    "collapsed": false
   },
   "outputs": [
    {
     "data": {
      "text/plain": [
       "[(1,\n",
       "  2,\n",
       "  0,\n",
       "  {'Subgraph': ('Non-amyloidogenic pathway', 'Gamma secretase pathway'),\n",
       "   'citation': ('Other', 'Connectors', '123'),\n",
       "   'evidence': 'The statements inside this citation is included to connect two entity types or triples, which will exist as islands/subnetworks in the big model.',\n",
       "   'object_activity': 'act',\n",
       "   'rel': 'decreases'}),\n",
       " (1,\n",
       "  2,\n",
       "  1,\n",
       "  {'DiseaseState': ('Mild AD',),\n",
       "   'FDASTATUS': ('Phase 3',),\n",
       "   'Subgraph': ('Notch pathway', 'Gamma secretase pathway'),\n",
       "   'citation': ('PubMed', 'Curr Med Chem. 2011;18(35):5430-47', '22087836'),\n",
       "   'evidence': 'gamma-Secretase inhibitor believed to be associated with the inhibition of the cleavage of Notch, a transmembrane receptor involved in regulating cell-fate decisions.',\n",
       "   'object_activity': 'pep',\n",
       "   'rel': 'decreases'})]"
      ]
     },
     "execution_count": 15,
     "metadata": {},
     "output_type": "execute_result"
    }
   ],
   "source": [
    "graph_AD.edges(data=True,keys=True)[:2]"
   ]
  },
  {
   "cell_type": "code",
   "execution_count": 16,
   "metadata": {
    "collapsed": true
   },
   "outputs": [],
   "source": [
    "#nodes = np.random.choice(graph,size=100,replace=False)\n"
   ]
  },
  {
   "cell_type": "code",
   "execution_count": 17,
   "metadata": {
    "collapsed": false
   },
   "outputs": [],
   "source": [
    "nodes = set(itt.chain.from_iterable((formN,toN) for formN,toN  in graph_AD.edges()[:100]))"
   ]
  },
  {
   "cell_type": "code",
   "execution_count": 18,
   "metadata": {
    "collapsed": false
   },
   "outputs": [],
   "source": [
    "graph_100 = graph_AD.subgraph(nodes)"
   ]
  },
  {
   "cell_type": "code",
   "execution_count": 19,
   "metadata": {
    "collapsed": false
   },
   "outputs": [
    {
     "data": {
      "image/png": "[encoded data removed]",
      "text/plain": [
       "<matplotlib.figure.Figure at 0x8a66df0>"
      ]
     },
     "metadata": {},
     "output_type": "display_data"
    }
   ],
   "source": [
    "nx.draw(graph_100)"
   ]
  },
  {
   "cell_type": "code",
   "execution_count": 20,
   "metadata": {
    "collapsed": false,
    "scrolled": false
   },
   "outputs": [
    {
     "data": {
      "text/html": [
       "\n",
       "        <iframe\n",
       "            width=\"1000\"\n",
       "            height=\"800\"\n",
       "            src=\"graph-temp.html\"\n",
       "            frameborder=\"0\"\n",
       "            allowfullscreen\n",
       "        ></iframe>\n",
       "        "
      ],
      "text/plain": [
       "<IPython.lib.display.IFrame at 0x4cd1ef0>"
      ]
     },
     "execution_count": 20,
     "metadata": {},
     "output_type": "execute_result"
    }
   ],
   "source": [
    "imp.reload(vis_bel)\n",
    "vis_bel.draw(graph_100)\n"
   ]
  },
  {
   "cell_type": "code",
   "execution_count": 21,
   "metadata": {
    "collapsed": false
   },
   "outputs": [
    {
     "name": "stdout",
     "output_type": "stream",
     "text": [
      "(1, 2, 0, {'citation': ('Other', 'Connectors', '123'), 'object_activity': 'act', 'rel': 'decreases', 'Subgraph': ('Non-amyloidogenic pathway', 'Gamma secretase pathway'), 'evidence': 'The statements inside this citation is included to connect two entity types or triples, which will exist as islands/subnetworks in the big model.'})\n"
     ]
    }
   ],
   "source": [
    "for edge in graph_100.edges_iter(data=True,keys=True):\n",
    "    print(edge)\n",
    "    break"
   ]
  },
  {
   "cell_type": "markdown",
   "metadata": {},
   "source": [
    "## Tasks\n",
    "\n",
    "0. Find the node with the highest degree in graph_100\n",
    "0. get all distinct attribute keys in nodes and edges for graph_100\n",
    "0. Write a function which allows you to search all edges in the graph_100 with any key (or key/value). Allow value to be optional\n",
    "0. Find shortest paths between all nodes link to the edges found in the previsious task and create a new graph, display it "
   ]
  },
  {
   "cell_type": "markdown",
   "metadata": {},
   "source": [
    "**hint** : Write a function which allows you to search all edges in the graph_100 with any key (or key/value). Allow value to be optional"
   ]
  },
  {
   "cell_type": "code",
   "execution_count": 23,
   "metadata": {
    "collapsed": false
   },
   "outputs": [
    {
     "name": "stdout",
     "output_type": "stream",
     "text": [
      "{1: 3, 2: 46, 3: 208, 4: 20, 5: 46, 6: 252, 263: 3, 266: 15, 12: 3, 291: 1, 1537: 2, 279: 6, 292: 1, 155: 15, 92: 7, 731: 4, 289: 2, 290: 1, 611: 4, 2212: 2, 293: 1, 294: 2, 7: 105, 942: 2, 1217: 4, 1534: 3, 1828: 2, 2936: 9, 2937: 17, 11457: 2}\n"
     ]
    },
    {
     "data": {
      "text/plain": [
       "6"
      ]
     },
     "execution_count": 23,
     "metadata": {},
     "output_type": "execute_result"
    }
   ],
   "source": [
    "#Task 1 - Find the node with the highest degree in graph_100\n",
    "\n",
    "highest_degree=graph_100.degree()\n",
    "max(highest_degree, key=highest_degree.get)\n"
   ]
  },
  {
   "cell_type": "code",
   "execution_count": 61,
   "metadata": {
    "collapsed": false
   },
   "outputs": [
    {
     "name": "stdout",
     "output_type": "stream",
     "text": [
      "{'function', 'value', 'namespace', 'list', 'BEL', 'valid_NSV'}\n",
      "{'object_translocation_from_value', 'UserdefinedCellLine', 'subject_translocation_to_namespace', 'FluidAndSecretion', 'Species', 'MeSHDisease', 'NervousSystem', 'Encode_Feature_Types', 'Tissue', 'DigestiveSystem', 'subject_translocation_from_value', 'subject_translocation_to_value', 'UserdefinedGender', 'Developmental_Phase__of_patient', 'rel', 'subject_activity', 'Duration_of_Chemical_Exposure', 'evidence', 'Subgraph', 'CellStructure', 'object_translocation_to_value', 'object_activity', 'Cell', 'DiseaseState', 'FDASTATUS', 'UserdefinedSpecies', 'CellLine', 'object_translocation', 'subject_translocation_from_namespace', 'citation', 'object_translocation_to_namespace', 'subject_translocation', 'CardiovascularSystem', 'object_translocation_from_namespace'}\n"
     ]
    }
   ],
   "source": [
    "#Task 2 - get all distinct attribute keys in nodes and edges for graph_100\n",
    "\n",
    "node_keys=set()\n",
    "for node in graph_100.nodes_iter(data=True):\n",
    "    for key_list in node[1].keys():\n",
    "        \n",
    "        node_keys.add(key_list)\n",
    "print(node_keys)\n",
    "\n",
    "\n",
    "edges_keys=set()\n",
    "for edge in graph_100.edges_iter(data=True,keys=True):\n",
    "    for key_list in edge[3].keys():\n",
    "        edges_keys.add(key_list)\n",
    "print(edges_keys)\n",
    "    "
   ]
  },
  {
   "cell_type": "code",
   "execution_count": 27,
   "metadata": {
    "collapsed": false
   },
   "outputs": [
    {
     "data": {
      "text/plain": [
       "[(1,\n",
       "  2,\n",
       "  {'Subgraph': ('Non-amyloidogenic pathway', 'Gamma secretase pathway'),\n",
       "   'citation': ('Other', 'Connectors', '123'),\n",
       "   'evidence': 'The statements inside this citation is included to connect two entity types or triples, which will exist as islands/subnetworks in the big model.',\n",
       "   'object_activity': 'act',\n",
       "   'rel': 'decreases'}),\n",
       " (1,\n",
       "  2,\n",
       "  {'DiseaseState': ('Mild AD',),\n",
       "   'FDASTATUS': ('Phase 3',),\n",
       "   'Subgraph': ('Notch pathway', 'Gamma secretase pathway'),\n",
       "   'citation': ('PubMed', 'Curr Med Chem. 2011;18(35):5430-47', '22087836'),\n",
       "   'evidence': 'gamma-Secretase inhibitor believed to be associated with the inhibition of the cleavage of Notch, a transmembrane receptor involved in regulating cell-fate decisions.',\n",
       "   'object_activity': 'pep',\n",
       "   'rel': 'decreases'}),\n",
       " (1,\n",
       "  1828,\n",
       "  {'DiseaseState': ('Mild AD',),\n",
       "   'FDASTATUS': ('Phase 3',),\n",
       "   'Subgraph': ('Notch pathway', 'Gamma secretase pathway'),\n",
       "   'citation': ('PubMed', 'Curr Med Chem. 2011;18(35):5430-47', '22087836'),\n",
       "   'evidence': 'gamma-Secretase inhibitor believed to be associated with the inhibition of the cleavage of Notch, a transmembrane receptor involved in regulating cell-fate decisions.',\n",
       "   'rel': 'decreases'}),\n",
       " (2,\n",
       "  1537,\n",
       "  {'Subgraph': ('Gamma secretase pathway',),\n",
       "   'citation': ('PubMed',\n",
       "    'Neurosci Lett. 2013 Aug 26;548:90-4. doi: 10.1016/j.neulet.2013.05.018. Epub 2013 May 15.',\n",
       "    '23685131'),\n",
       "   'evidence': 'The Î³-secretase complex comprises presenilins (PS1 or PS2), nicastrin, APH-1, and PEN-2. Herein, we find that PEN-2 can interact with ferritin light chain (FTL), an important component of the iron storage protein ferritin. In addition, we show that overexpression of FTL increases the protein levels of PEN-2 and PS1 amino-terminal fragment (NTF) and promotes Î³-secretase activity for more production of AÎ² and notch intracellular domain (NICD). Furthermore, iron treatments increase the levels of FTL, PEN-2 and PS1 NTF and promote Î³-secretase-mediated NICD production. Moreover, downregulation of FTL decreases the levels of PEN-2 and PS1 NTF. Together, our results suggest that iron can increase Î³-secretase activity through promoting the level of FTL that interacts with and stabilizes PEN-2, providing a new molecular link between iron, PEN-2/Î³-secretase and AÎ² generation in AD.',\n",
       "   'rel': 'hasMembers'}),\n",
       " (2,\n",
       "  4,\n",
       "  {'Subgraph': ('Amyloidogenic pathway', 'Gamma secretase pathway'),\n",
       "   'citation': ('PubMed',\n",
       "    'Hum Mol Genet. 2012 Mar 27. [Epub ahead of print]',\n",
       "    '22434822'),\n",
       "   'evidence': 'Processing of APP to produce Ab involves cleavage by b-site APP cleaving enzyme-1 (BACE1) and g-secretase that process APP at the N- and C-termini, respectively, of the Ab sequence.',\n",
       "   'rel': 'increases',\n",
       "   'subject_activity': 'pep'}),\n",
       " (2,\n",
       "  4,\n",
       "  {'Subgraph': ('Beta secretase pathway',\n",
       "    'Amyloidogenic pathway',\n",
       "    'Gamma secretase pathway'),\n",
       "   'citation': ('PubMed',\n",
       "    'BMC Neurol. 2012 Jun 15;12(1):38. [Epub ahead of print]',\n",
       "    '22702962'),\n",
       "   'evidence': 'Amyloid plaques consist primarily of amyloid Î² protein (AÎ²), which is produced when APP is cleaved by Î²-secretase and then cleaved again by Î³-secretase as part of the amyloidogenic pathway.',\n",
       "   'rel': 'increases',\n",
       "   'subject_activity': 'pep'}),\n",
       " (2,\n",
       "  4,\n",
       "  {'Subgraph': ('Gamma secretase pathway',),\n",
       "   'citation': ('PubMed',\n",
       "    '2010 Apr 13;107(15):6557-8. doi: 10.1073/pnas.1002555107.',\n",
       "    '20385830'),\n",
       "   'evidence': 'The pathogenesis of AD begins with impaired synaptic function, which may result from the accumulation of amyloid-Ã\\x8eÂ² (AÃ\\x8eÂ²) peptide (5Ã¢â\\x82¬8). For many years, researchers have focused on the insoluble deposits of amyloid fibrils as the leading cause of memory loss and as the culprit of AD. More recent findings, however, suggest soluble AÃ\\x8eÂ² oligomers may be the cause of memory loss, especially in the early stages of AD, because AÃ\\x8eÂ² oligomers inhibit long-term potentiation in neurons, a well-adopted experimental paradigm for learning and memory (6, 9). AÃ\\x8eÂ² is produced from amyloid precursor protein (APP) by serial proteolytic reactions catalyzed by Ã\\x8eÂ²-site of APP cleaving enzyme (BACE) and a multiprotein complex Ã\\x8eÂ³-secretase, in which presenilin is likely the catalytic component ',\n",
       "   'rel': 'increases',\n",
       "   'subject_activity': 'pep'}),\n",
       " (2,\n",
       "  4,\n",
       "  {'Subgraph': ('Beta secretase pathway',\n",
       "    'Amyloidogenic pathway',\n",
       "    'Gamma secretase pathway'),\n",
       "   'citation': ('PubMed',\n",
       "    'Hum Mol Genet. 2012 Mar 27. [Epub ahead of print]',\n",
       "    '22434822'),\n",
       "   'evidence': 'Processing of APP to produce Ab involves cleavage by b-site APP cleaving enzyme-1 (BACE1) and g-secretase that process APP at the N- and C-termini, respectively, of the Ab sequence.',\n",
       "   'rel': 'directlyIncreases',\n",
       "   'subject_activity': 'pep'}),\n",
       " (2,\n",
       "  4,\n",
       "  {'Subgraph': ('Beta secretase pathway',\n",
       "    'Amyloidogenic pathway',\n",
       "    'Gamma secretase pathway'),\n",
       "   'citation': ('PubMed',\n",
       "    'Cell Adh Migr. 2011 Jul-Aug;5(4):280-92. Epub 2011 Jul 1.',\n",
       "    '21785276'),\n",
       "   'evidence': 'The amyloid-beta (AÃ\\x8eÂ²) peptide is the derivative of amyloid precursor protein (APP) generated through sequential proteolytic processing by Ã\\x8eÂ²- and Ã\\x8eÂ³-secretases. Excessive accumulation of AÃ\\x8eÂ², the main constituent of amyloid plaques, has been implicated in the etiology of Alzheimer disease (AD). ',\n",
       "   'rel': 'directlyIncreases',\n",
       "   'subject_activity': 'pep'}),\n",
       " (2,\n",
       "  6,\n",
       "  {'Subgraph': ('Amyloidogenic pathway',\n",
       "    'Notch pathway',\n",
       "    'Gamma secretase pathway'),\n",
       "   'citation': ('PubMed', 'CNS Drugs. 2006;20(5):351-72.', '16696577'),\n",
       "   'evidence': \"gamma-Secretase comprises a molecular complex of four integral membrane proteins - presenilin, nicastrin, APH-1 and PEN-2 - and its molecular mechanism remains under extensive scrutiny. The ratio of Abeta(42) over Abeta(40) is increased by familial Alzheimer's disease mutations occurring in the presenilin genes or in APP, near the gamma-secretase cleavage site.\",\n",
       "   'rel': 'increases',\n",
       "   'subject_activity': 'pep'}),\n",
       " (2,\n",
       "  6,\n",
       "  {'Subgraph': ('Amyloidogenic pathway',\n",
       "    'G protein mediated pathway',\n",
       "    'Gamma secretase pathway'),\n",
       "   'citation': ('PubMed',\n",
       "    'Nat Med. 2013 Jan;19(1):22-4. doi: 10.1038/nm.3053.',\n",
       "    '23296004'),\n",
       "   'evidence': \"In this issue of Nature Medicine, Thathiah et al.4 now provide provocative evidence that the adaptor protein Î²-arrestin 2 mediates the AÎ²-altering effects of these GPCRs by promoting AÎ² generation. This newly uncovered function of Î²-arrestin 2 suggests it could be targeted to decrease amyloid pathology in patients with Alzheimer's disease. Production of the amyloid-Î² peptide in Alzheimer's disease by the Î³-secretase complex can be regulated by certain G proteinâ\\x80\\x93coupled receptors. This regulation seems to be mediated by Î²-arrestin-2, whose expression was found to be elevated in Alzheimer's disease brains.Recruitment of Î²-arrestin 2 to a GPCR leads to interaction with the Î³-secretase complex via the Aph-1 subunit. Other members of the complex include presenilin-1 (PS-1), nicastrin (Nct) and Pen-2. The complex then moves laterally into lipid rafts, where Î³-secretase activation is enhanced. Internalization may also occur to localize Î³-secretase to late endosomes, where its activation is also increased. Cleavage of APP by Î²-secretase (BACE1) to release soluble APP (sAPPb) followed by Î³-secretase produces AÎ² and APP intracellular domain (AICD). Increased production and secretion of AÎ² from cells can lead to extracellular AÎ² aggregation in the form of plaques. Mutagenesis of GPR3 in regions of the protein that specifically interact with either G protein or Î²-arrestin 2 further showed that Î²-arrestin 2, not G protein, mediates the ability of GPR3 to increase AÎ² levels.\",\n",
       "   'rel': 'increases',\n",
       "   'subject_activity': 'pep'}),\n",
       " (2,\n",
       "  6,\n",
       "  {'Subgraph': ('Amyloidogenic pathway', 'Gamma secretase pathway'),\n",
       "   'citation': ('PubMed',\n",
       "    'J Biol Chem. 2009 May 1;284(18):12145-52. doi: 10.1074/jbc.M808497200. Epub 2009 Mar 10.',\n",
       "    '19276086'),\n",
       "   'evidence': 'Moreover, we find that PLD1 also regulates PS1 trafficking and that PLD1 overexpression promotes cell surface accumulation of PS1 in an APP-independent manner. Our results clearly elucidate a physiological function of APP in regulating protein trafficking and suggest that intracellular trafficking of PS1/gamma-secretase is regulated by multiple factors, including APP and PLD1.',\n",
       "   'rel': 'increases',\n",
       "   'subject_activity': 'pep'}),\n",
       " (2,\n",
       "  6,\n",
       "  {'Subgraph': ('Beta secretase pathway',\n",
       "    'Amyloidogenic pathway',\n",
       "    'Gamma secretase pathway'),\n",
       "   'citation': ('PubMed',\n",
       "    'J Biol Chem. 2008 Oct 31;283(44):29615-9. Epub 2008 Jul 23.',\n",
       "    '18650430'),\n",
       "   'evidence': 'Interestingly, Fe65 acts as a functional linker between APP and LRP (another type I membrane protein containing two NPXY endocytosis motifs) in modulating endocytic APP trafficking and AÃ\\x9f production. A conformational change introduced by phosphorylation at Thr668 (14 amino acids proximal to the YENPTY motif) interferes with Fe65 binding to APP and facilitates BACE1 and gamma-secretase cleavage of APP.',\n",
       "   'rel': 'increases',\n",
       "   'subject_activity': 'act'}),\n",
       " (2,\n",
       "  6,\n",
       "  {'FluidAndSecretion': ('Bodily Secretions',),\n",
       "   'Subgraph': ('Amyloidogenic pathway',\n",
       "    'Unfolded protein response',\n",
       "    'Gamma secretase pathway'),\n",
       "   'citation': ('PubMed',\n",
       "    'Biochem Biophys Res Commun. 2011 Dec 16;416(3-4):362-6. doi: 10.1016/j.bbrc.2011.11.042. Epub 2011 Nov 16.',\n",
       "    '22115781'),\n",
       "   'evidence': 'In this study, we demonstrate that ER stress induces presenilin-1 expression through activating transcription factor 4 (ATF4), resulting in increased amyloid-Î² (AÎ²) secretion by Î³-secretase activity, which is suppressed by quercetin by modifying UPR signaling.',\n",
       "   'rel': 'increases',\n",
       "   'subject_activity': 'pep'}),\n",
       " (2,\n",
       "  263,\n",
       "  {'Subgraph': ('Notch pathway', 'Gamma secretase pathway'),\n",
       "   'citation': ('PubMed',\n",
       "    'J Toxicol. 2012;2012:187297. Epub 2012 Feb 8.',\n",
       "    '22496686'),\n",
       "   'evidence': 'Another relevant role for PSs is Notch processing. Notch signaling is involved in cell fate regulation, cell differentiation, proliferation, and apoptosis as well as neurodegeneration. Notch is a membrane receptor whose C-terminal domain (NICD), upon interaction with appropriate ligands, translocates into the nucleus where it activates the CSL family of transcription factors. NICD formation depends on gamma-secretase complex as the AICD fragment of AÃ\\x9fPP. PSs play a role in apoptosis, since FAD mutants cause cell death or induce secondary events that may lead to apoptosis .Animals, in which PS1 and PS2 genes are deleted, show deficit in learning, memory, synaptic function and neuronal death. The processes beneath these effects are unknown, but the findings that PS1 interacts with antiapoptotic member of Bcl-2 family might indicate a possible mechanism.',\n",
       "   'rel': 'increases',\n",
       "   'subject_activity': 'pep'}),\n",
       " (2,\n",
       "  266,\n",
       "  {'Subgraph': ('Cholesterol metabolism', 'Gamma secretase pathway'),\n",
       "   'citation': ('PubMed',\n",
       "    'J Toxicol. 2012;2012:187297. Epub 2012 Feb 8.',\n",
       "    '22496686'),\n",
       "   'evidence': 'Recently, also the low-density receptor-related protein (LRP) has been shown to be cleaved by a gamma-secretase-like activity. It is important to note that LRPs receptors are activated by apolipoprotein E, a well-known risk factor for the developing of late onset AD in carriers of the e4 alleles.',\n",
       "   'object_activity': 'deg',\n",
       "   'rel': 'increases',\n",
       "   'subject_activity': 'pep'}),\n",
       " (2,\n",
       "  266,\n",
       "  {'CellStructure': ('Centrosome',),\n",
       "   'NervousSystem': ('Brain',),\n",
       "   'Subgraph': ('Low density lipoprotein pathway', 'Gamma secretase pathway'),\n",
       "   'citation': ('PubMed',\n",
       "    'J Toxicol. 2012;2012:187297. Epub 2012 Feb 8.',\n",
       "    '22496686'),\n",
       "   'evidence': 'Beside its role as AÃ\\x9f chaperone, ApoE might modulate specific internalization and signaling events via binding to its receptors. Some of them possess shared adaptors with AÃ\\x9fPP; in particular Fe65 and JIP1 bind to LRP8, LRP1, and megalin. Indeed gamma-secretase cleavage regulates the intramembrane proteolysis of LRP8, LRP1, and of SOR-1/LRP11. It is tempting to speculate that LRPs could affect AÃ\\x9fPP processing and signaling (and vice versa) through gamma-secretase and ApoE-mediated stimuli.',\n",
       "   'object_activity': 'deg',\n",
       "   'rel': 'increases',\n",
       "   'subject_activity': 'pep'}),\n",
       " (2,\n",
       "  12,\n",
       "  {'Subgraph': ('Amyloidogenic pathway',\n",
       "    'Notch pathway',\n",
       "    'Gamma secretase pathway'),\n",
       "   'citation': ('PubMed', 'CNS Drugs. 2006;20(5):351-72.', '16696577'),\n",
       "   'evidence': \"gamma-Secretase comprises a molecular complex of four integral membrane proteins - presenilin, nicastrin, APH-1 and PEN-2 - and its molecular mechanism remains under extensive scrutiny. The ratio of Abeta(42) over Abeta(40) is increased by familial Alzheimer's disease mutations occurring in the presenilin genes or in APP, near the gamma-secretase cleavage site.\",\n",
       "   'rel': 'hasComponents'}),\n",
       " (2,\n",
       "  12,\n",
       "  {'Subgraph': ('Gamma secretase pathway',),\n",
       "   'citation': ('PubMed',\n",
       "    '2010 Apr 13;107(15):6557-8. doi: 10.1073/pnas.1002555107.',\n",
       "    '20385830'),\n",
       "   'evidence': 'The pathogenesis of AD begins with impaired synaptic function, which may result from the accumulation of amyloid-Ã\\x8eÂ² (AÃ\\x8eÂ²) peptide (5Ã¢â\\x82¬8). For many years, researchers have focused on the insoluble deposits of amyloid fibrils as the leading cause of memory loss and as the culprit of AD. More recent findings, however, suggest soluble AÃ\\x8eÂ² oligomers may be the cause of memory loss, especially in the early stages of AD, because AÃ\\x8eÂ² oligomers inhibit long-term potentiation in neurons, a well-adopted experimental paradigm for learning and memory (6, 9). AÃ\\x8eÂ² is produced from amyloid precursor protein (APP) by serial proteolytic reactions catalyzed by Ã\\x8eÂ²-site of APP cleaving enzyme (BACE) and a multiprotein complex Ã\\x8eÂ³-secretase, in which presenilin is likely the catalytic component ',\n",
       "   'rel': 'hasComponents'}),\n",
       " (2,\n",
       "  12,\n",
       "  {'Subgraph': ('Gamma secretase pathway',),\n",
       "   'citation': ('PubMed', 'CNS Drugs. 2006;20(5):351-72.', '16696577'),\n",
       "   'evidence': \"gamma-Secretase comprises a molecular complex of four integral membrane proteins - presenilin, nicastrin, APH-1 and PEN-2 - and its molecular mechanism remains under extensive scrutiny. The ratio of Abeta(42) over Abeta(40) is increased by familial Alzheimer's disease mutations occurring in the presenilin genes or in APP, near the gamma-secretase cleavage site.\",\n",
       "   'rel': 'hasComponents'}),\n",
       " (2,\n",
       "  291,\n",
       "  {'Subgraph': ('Cholesterol metabolism', 'Gamma secretase pathway'),\n",
       "   'citation': ('PubMed',\n",
       "    'J Toxicol. 2012;2012:187297. Epub 2012 Feb 8.',\n",
       "    '22496686'),\n",
       "   'evidence': 'Recently, also the low-density receptor-related protein (LRP) has been shown to be cleaved by a gamma-secretase-like activity. It is important to note that LRPs receptors are activated by apolipoprotein E, a well-known risk factor for the developing of late onset AD in carriers of the e4 alleles.',\n",
       "   'object_activity': 'deg',\n",
       "   'rel': 'increases',\n",
       "   'subject_activity': 'pep'}),\n",
       " (2,\n",
       "  279,\n",
       "  {'Subgraph': ('Notch pathway', 'Gamma secretase pathway'),\n",
       "   'citation': ('PubMed',\n",
       "    'J Biol Chem. 2003 May 30;278(22):20117-23. Epub 2003 Mar 14.',\n",
       "    '12639958'),\n",
       "   'evidence': \"PEN-2 is an integral membrane protein that is a necessary component of the gamma-secretase complex, which is central in the pathogenesis of Alzheimer's disease and is also required for Notch signaling. In the absence of PEN-2, Notch signaling fails to guide normal development in Caenorhabditis elegans, and amyloid beta peptide is not generated from the amyloid precursor protein\",\n",
       "   'rel': 'positiveCorrelation'}),\n",
       " (2,\n",
       "  292,\n",
       "  {'Subgraph': ('Cholesterol metabolism', 'Gamma secretase pathway'),\n",
       "   'citation': ('PubMed',\n",
       "    'J Toxicol. 2012;2012:187297. Epub 2012 Feb 8.',\n",
       "    '22496686'),\n",
       "   'evidence': 'Recently, also the low-density receptor-related protein (LRP) has been shown to be cleaved by a gamma-secretase-like activity. It is important to note that LRPs receptors are activated by apolipoprotein E, a well-known risk factor for the developing of late onset AD in carriers of the e4 alleles.',\n",
       "   'object_activity': 'deg',\n",
       "   'rel': 'increases',\n",
       "   'subject_activity': 'pep'}),\n",
       " (2,\n",
       "  92,\n",
       "  {'Subgraph': ('Cholesterol metabolism', 'Gamma secretase pathway'),\n",
       "   'citation': ('PubMed',\n",
       "    'J Toxicol. 2012;2012:187297. Epub 2012 Feb 8.',\n",
       "    '22496686'),\n",
       "   'evidence': 'Recently, also the low-density receptor-related protein (LRP) has been shown to be cleaved by a gamma-secretase-like activity. It is important to note that LRPs receptors are activated by apolipoprotein E, a well-known risk factor for the developing of late onset AD in carriers of the e4 alleles.',\n",
       "   'object_activity': 'deg',\n",
       "   'rel': 'increases',\n",
       "   'subject_activity': 'pep'}),\n",
       " (2,\n",
       "  92,\n",
       "  {'CellStructure': ('Centrosome',),\n",
       "   'NervousSystem': ('Brain',),\n",
       "   'Subgraph': ('Low density lipoprotein pathway', 'Gamma secretase pathway'),\n",
       "   'citation': ('PubMed',\n",
       "    'J Toxicol. 2012;2012:187297. Epub 2012 Feb 8.',\n",
       "    '22496686'),\n",
       "   'evidence': 'Beside its role as AÃ\\x9f chaperone, ApoE might modulate specific internalization and signaling events via binding to its receptors. Some of them possess shared adaptors with AÃ\\x9fPP; in particular Fe65 and JIP1 bind to LRP8, LRP1, and megalin. Indeed gamma-secretase cleavage regulates the intramembrane proteolysis of LRP8, LRP1, and of SOR-1/LRP11. It is tempting to speculate that LRPs could affect AÃ\\x9fPP processing and signaling (and vice versa) through gamma-secretase and ApoE-mediated stimuli.',\n",
       "   'object_activity': 'deg',\n",
       "   'rel': 'increases',\n",
       "   'subject_activity': 'pep'}),\n",
       " (2,\n",
       "  289,\n",
       "  {'Subgraph': ('Cholesterol metabolism', 'Gamma secretase pathway'),\n",
       "   'citation': ('PubMed',\n",
       "    'J Toxicol. 2012;2012:187297. Epub 2012 Feb 8.',\n",
       "    '22496686'),\n",
       "   'evidence': 'Recently, also the low-density receptor-related protein (LRP) has been shown to be cleaved by a gamma-secretase-like activity. It is important to note that LRPs receptors are activated by apolipoprotein E, a well-known risk factor for the developing of late onset AD in carriers of the e4 alleles.',\n",
       "   'object_activity': 'deg',\n",
       "   'rel': 'increases',\n",
       "   'subject_activity': 'pep'}),\n",
       " (2,\n",
       "  290,\n",
       "  {'Subgraph': ('Cholesterol metabolism', 'Gamma secretase pathway'),\n",
       "   'citation': ('PubMed',\n",
       "    'J Toxicol. 2012;2012:187297. Epub 2012 Feb 8.',\n",
       "    '22496686'),\n",
       "   'evidence': 'Recently, also the low-density receptor-related protein (LRP) has been shown to be cleaved by a gamma-secretase-like activity. It is important to note that LRPs receptors are activated by apolipoprotein E, a well-known risk factor for the developing of late onset AD in carriers of the e4 alleles.',\n",
       "   'object_activity': 'deg',\n",
       "   'rel': 'increases',\n",
       "   'subject_activity': 'pep'}),\n",
       " (2,\n",
       "  293,\n",
       "  {'Subgraph': ('Cholesterol metabolism', 'Gamma secretase pathway'),\n",
       "   'citation': ('PubMed',\n",
       "    'J Toxicol. 2012;2012:187297. Epub 2012 Feb 8.',\n",
       "    '22496686'),\n",
       "   'evidence': 'Recently, also the low-density receptor-related protein (LRP) has been shown to be cleaved by a gamma-secretase-like activity. It is important to note that LRPs receptors are activated by apolipoprotein E, a well-known risk factor for the developing of late onset AD in carriers of the e4 alleles.',\n",
       "   'object_activity': 'deg',\n",
       "   'rel': 'increases',\n",
       "   'subject_activity': 'pep'}),\n",
       " (2,\n",
       "  294,\n",
       "  {'Subgraph': ('Cholesterol metabolism', 'Gamma secretase pathway'),\n",
       "   'citation': ('PubMed',\n",
       "    'J Toxicol. 2012;2012:187297. Epub 2012 Feb 8.',\n",
       "    '22496686'),\n",
       "   'evidence': 'Recently, also the low-density receptor-related protein (LRP) has been shown to be cleaved by a gamma-secretase-like activity. It is important to note that LRPs receptors are activated by apolipoprotein E, a well-known risk factor for the developing of late onset AD in carriers of the e4 alleles.',\n",
       "   'object_activity': 'deg',\n",
       "   'rel': 'increases',\n",
       "   'subject_activity': 'pep'}),\n",
       " (2,\n",
       "  294,\n",
       "  {'CellStructure': ('Centrosome',),\n",
       "   'NervousSystem': ('Brain',),\n",
       "   'Subgraph': ('Low density lipoprotein pathway', 'Gamma secretase pathway'),\n",
       "   'citation': ('PubMed',\n",
       "    'J Toxicol. 2012;2012:187297. Epub 2012 Feb 8.',\n",
       "    '22496686'),\n",
       "   'evidence': 'Beside its role as AÃ\\x9f chaperone, ApoE might modulate specific internalization and signaling events via binding to its receptors. Some of them possess shared adaptors with AÃ\\x9fPP; in particular Fe65 and JIP1 bind to LRP8, LRP1, and megalin. Indeed gamma-secretase cleavage regulates the intramembrane proteolysis of LRP8, LRP1, and of SOR-1/LRP11. It is tempting to speculate that LRPs could affect AÃ\\x9fPP processing and signaling (and vice versa) through gamma-secretase and ApoE-mediated stimuli.',\n",
       "   'object_activity': 'deg',\n",
       "   'rel': 'increases',\n",
       "   'subject_activity': 'pep'}),\n",
       " (2,\n",
       "  7,\n",
       "  {'DiseaseState': ('Mild AD',),\n",
       "   'FDASTATUS': ('Phase 3',),\n",
       "   'Subgraph': ('Inflammatory response pathway',\n",
       "    'Non-amyloidogenic pathway',\n",
       "    'Gamma secretase pathway'),\n",
       "   'citation': ('PubMed', 'J Alzheimers Dis. 2009;17(4):757-60', '19542625'),\n",
       "   'evidence': \"There has been a lot of disappointment surrounding the recent failure of the largest ever study in patients with Alzheimer's disease (AD) with tarenflurbil. A straightforward explanation of this failure is that the gamma-secretase is not the right target for therapy or that, in general, blocking A beta does not produce clinical benefits in AD\",\n",
       "   'rel': 'causesNoChange'}),\n",
       " (2,\n",
       "  942,\n",
       "  {'Subgraph': ('Gamma secretase pathway',),\n",
       "   'citation': ('PubMed',\n",
       "    '2010 Apr 13;107(15):6557-8. doi: 10.1073/pnas.1002555107.',\n",
       "    '20385830'),\n",
       "   'evidence': 'The pathogenesis of AD begins with impaired synaptic function, which may result from the accumulation of amyloid-Ã\\x8eÂ² (AÃ\\x8eÂ²) peptide (5Ã¢â\\x82¬8). For many years, researchers have focused on the insoluble deposits of amyloid fibrils as the leading cause of memory loss and as the culprit of AD. More recent findings, however, suggest soluble AÃ\\x8eÂ² oligomers may be the cause of memory loss, especially in the early stages of AD, because AÃ\\x8eÂ² oligomers inhibit long-term potentiation in neurons, a well-adopted experimental paradigm for learning and memory (6, 9). AÃ\\x8eÂ² is produced from amyloid precursor protein (APP) by serial proteolytic reactions catalyzed by Ã\\x8eÂ²-site of APP cleaving enzyme (BACE) and a multiprotein complex Ã\\x8eÂ³-secretase, in which presenilin is likely the catalytic component ',\n",
       "   'rel': 'increases',\n",
       "   'subject_activity': 'pep'}),\n",
       " (2,\n",
       "  1534,\n",
       "  {'Subgraph': ('Notch pathway', 'Gamma secretase pathway'),\n",
       "   'citation': ('PubMed',\n",
       "    'J Biol Chem. 2003 May 30;278(22):20117-23. Epub 2003 Mar 14.',\n",
       "    '12639958'),\n",
       "   'evidence': \"PEN-2 is an integral membrane protein that is a necessary component of the gamma-secretase complex, which is central in the pathogenesis of Alzheimer's disease and is also required for Notch signaling. In the absence of PEN-2, Notch signaling fails to guide normal development in Caenorhabditis elegans, and amyloid beta peptide is not generated from the amyloid precursor protein\",\n",
       "   'rel': 'hasMember'}),\n",
       " (2,\n",
       "  1828,\n",
       "  {'DiseaseState': ('Mild AD',),\n",
       "   'FDASTATUS': ('Phase 2',),\n",
       "   'Subgraph': ('Notch pathway', 'Gamma secretase pathway'),\n",
       "   'citation': ('PubMed',\n",
       "    'Prim Care Companion J Clin Psychiatry. 2007; 9(1): 32ï¿½41',\n",
       "    '17599166'),\n",
       "   'evidence': 'There are 4 classes of potentially disease-modifying treatments that have successfully advanced to later-stage clinical trials: (1) immunotherapies, (2) secretase inhibitors, (3) selective Abeta42-lowering agents (SALAs), and (4) anti-Abeta aggregation agents. Gamma-secretase has many biologically essential substrates. One physiologically important gamma-secretase substrate is the Notch signaling protein',\n",
       "   'rel': 'increases',\n",
       "   'subject_activity': 'pep'}),\n",
       " (2,\n",
       "  2936,\n",
       "  {'Subgraph': ('Amyloidogenic pathway', 'Gamma secretase pathway'),\n",
       "   'citation': ('PubMed',\n",
       "    'Hum Mol Genet. 2012 Mar 27. [Epub ahead of print]',\n",
       "    '22434822'),\n",
       "   'evidence': 'In addition, APP can be cleaved by a- and g-secretases and this precludes Ab production since a-secretase cleaves APP within the Ab sequence',\n",
       "   'rel': 'increases',\n",
       "   'subject_activity': 'pep'}),\n",
       " (2,\n",
       "  2936,\n",
       "  {'Subgraph': ('Amyloidogenic pathway', 'Gamma secretase pathway'),\n",
       "   'citation': ('PubMed',\n",
       "    'Hum Mol Genet. 2012 Mar 27. [Epub ahead of print]',\n",
       "    '22434822'),\n",
       "   'evidence': 'Processing of APP to produce Ab involves cleavage by b-site APP cleaving enzyme-1 (BACE1) and g-secretase that process APP at the N- and C-termini, respectively, of the Ab sequence.',\n",
       "   'rel': 'directlyIncreases',\n",
       "   'subject_activity': 'pep'}),\n",
       " (2,\n",
       "  2937,\n",
       "  {'Subgraph': ('Gamma secretase pathway',),\n",
       "   'citation': ('PubMed', 'CNS Drugs. 2006;20(5):351-72.', '16696577'),\n",
       "   'evidence': \"gamma-Secretase comprises a molecular complex of four integral membrane proteins - presenilin, nicastrin, APH-1 and PEN-2 - and its molecular mechanism remains under extensive scrutiny. The ratio of Abeta(42) over Abeta(40) is increased by familial Alzheimer's disease mutations occurring in the presenilin genes or in APP, near the gamma-secretase cleavage site.\",\n",
       "   'rel': 'increases',\n",
       "   'subject_activity': 'pep'}),\n",
       " (2,\n",
       "  11457,\n",
       "  {'Subgraph': ('Amyloidogenic pathway', 'Gamma secretase pathway'),\n",
       "   'citation': ('PubMed',\n",
       "    'Hum Mol Genet. 2012 Mar 27. [Epub ahead of print]',\n",
       "    '22434822'),\n",
       "   'evidence': 'Processing of APP to produce Ab involves cleavage by b-site APP cleaving enzyme-1 (BACE1) and g-secretase that process APP at the N- and C-termini, respectively, of the Ab sequence.',\n",
       "   'rel': 'directlyIncreases',\n",
       "   'subject_activity': 'pep'}),\n",
       " (3,\n",
       "  4,\n",
       "  {'Subgraph': ('Amyloidogenic pathway', 'Gamma secretase pathway'),\n",
       "   'citation': ('PubMed',\n",
       "    'Hum Mol Genet. 2012 Mar 27. [Epub ahead of print]',\n",
       "    '22434822'),\n",
       "   'evidence': 'Processing of APP to produce Ab involves cleavage by b-site APP cleaving enzyme-1 (BACE1) and g-secretase that process APP at the N- and C-termini, respectively, of the Ab sequence.',\n",
       "   'rel': 'increases',\n",
       "   'subject_activity': 'pep'}),\n",
       " (3,\n",
       "  4,\n",
       "  {'Subgraph': ('Beta secretase pathway',\n",
       "    'Amyloidogenic pathway',\n",
       "    'Gamma secretase pathway'),\n",
       "   'citation': ('PubMed',\n",
       "    'BMC Neurol. 2012 Jun 15;12(1):38. [Epub ahead of print]',\n",
       "    '22702962'),\n",
       "   'evidence': 'Amyloid plaques consist primarily of amyloid Î² protein (AÎ²), which is produced when APP is cleaved by Î²-secretase and then cleaved again by Î³-secretase as part of the amyloidogenic pathway.',\n",
       "   'rel': 'increases',\n",
       "   'subject_activity': 'pep'}),\n",
       " (3,\n",
       "  4,\n",
       "  {'Subgraph': ('Beta secretase pathway',\n",
       "    'Amyloidogenic pathway',\n",
       "    'Gamma secretase pathway'),\n",
       "   'citation': ('PubMed',\n",
       "    'Hum Mol Genet. 2012 Mar 27. [Epub ahead of print]',\n",
       "    '22434822'),\n",
       "   'evidence': 'Processing of APP to produce Ab involves cleavage by b-site APP cleaving enzyme-1 (BACE1) and g-secretase that process APP at the N- and C-termini, respectively, of the Ab sequence.',\n",
       "   'rel': 'directlyIncreases',\n",
       "   'subject_activity': 'pep'}),\n",
       " (3,\n",
       "  4,\n",
       "  {'Subgraph': ('Beta secretase pathway',\n",
       "    'Amyloidogenic pathway',\n",
       "    'Gamma secretase pathway'),\n",
       "   'citation': ('PubMed',\n",
       "    'Cell Adh Migr. 2011 Jul-Aug;5(4):280-92. Epub 2011 Jul 1.',\n",
       "    '21785276'),\n",
       "   'evidence': 'The amyloid-beta (AÃ\\x8eÂ²) peptide is the derivative of amyloid precursor protein (APP) generated through sequential proteolytic processing by Ã\\x8eÂ²- and Ã\\x8eÂ³-secretases. Excessive accumulation of AÃ\\x8eÂ², the main constituent of amyloid plaques, has been implicated in the etiology of Alzheimer disease (AD). ',\n",
       "   'rel': 'directlyIncreases',\n",
       "   'subject_activity': 'pep'}),\n",
       " (3,\n",
       "  6,\n",
       "  {'Subgraph': ('Beta secretase pathway',\n",
       "    'Amyloidogenic pathway',\n",
       "    'Gamma secretase pathway'),\n",
       "   'citation': ('PubMed',\n",
       "    'J Biol Chem. 2008 Oct 31;283(44):29615-9. Epub 2008 Jul 23.',\n",
       "    '18650430'),\n",
       "   'evidence': 'Interestingly, Fe65 acts as a functional linker between APP and LRP (another type I membrane protein containing two NPXY endocytosis motifs) in modulating endocytic APP trafficking and AÃ\\x9f production. A conformational change introduced by phosphorylation at Thr668 (14 amino acids proximal to the YENPTY motif) interferes with Fe65 binding to APP and facilitates BACE1 and gamma-secretase cleavage of APP.',\n",
       "   'rel': 'increases',\n",
       "   'subject_activity': 'pep'}),\n",
       " (3,\n",
       "  942,\n",
       "  {'Subgraph': ('Gamma secretase pathway',),\n",
       "   'citation': ('PubMed',\n",
       "    '2010 Apr 13;107(15):6557-8. doi: 10.1073/pnas.1002555107.',\n",
       "    '20385830'),\n",
       "   'evidence': 'The pathogenesis of AD begins with impaired synaptic function, which may result from the accumulation of amyloid-Ã\\x8eÂ² (AÃ\\x8eÂ²) peptide (5Ã¢â\\x82¬8). For many years, researchers have focused on the insoluble deposits of amyloid fibrils as the leading cause of memory loss and as the culprit of AD. More recent findings, however, suggest soluble AÃ\\x8eÂ² oligomers may be the cause of memory loss, especially in the early stages of AD, because AÃ\\x8eÂ² oligomers inhibit long-term potentiation in neurons, a well-adopted experimental paradigm for learning and memory (6, 9). AÃ\\x8eÂ² is produced from amyloid precursor protein (APP) by serial proteolytic reactions catalyzed by Ã\\x8eÂ²-site of APP cleaving enzyme (BACE) and a multiprotein complex Ã\\x8eÂ³-secretase, in which presenilin is likely the catalytic component ',\n",
       "   'rel': 'increases'}),\n",
       " (5,\n",
       "  7,\n",
       "  {'Subgraph': ('Amyloidogenic pathway', 'Gamma secretase pathway'),\n",
       "   'citation': ('PubMed', 'J Biol Chem2007', '17314098'),\n",
       "   'evidence': 'The amyloid precursor protein (APP) and the presenilins 1 and 2 are genetically linked to the development of familial Alzheimer disease.',\n",
       "   'rel': 'association'}),\n",
       " (5,\n",
       "  2937,\n",
       "  {'Subgraph': ('Gamma secretase pathway',),\n",
       "   'citation': ('PubMed', 'Biochem J. 2012 Mar 1;442(2):413-22.', '22115042'),\n",
       "   'evidence': \"The death of cholinergic neurons in the cerebral cortex and certain subcortical regions is linked to irreversible dementia relevant to AD (Alzheimer's disease). Although multiple studies have shown that expression of a FAD (familial AD)-linked APP (amyloid Ã\\x9f precursor protein) or a PS (presenilin) mutant, but not that of wild-type APP or PS, induced neuronal death by activating intracellular death signals, it remains to be addressed how these signals are interrelated and what the key molecule involved in this process is. In the present study, we show that the PS1-mediated (or possibly the PS2-mediated) signal is essential for the APP-mediated death in a gamma-secretase-independent manner and vice versa. MOCA (modifier of cell adhesion), which was originally identified as being a PS- and Rac1-binding protein, is a common downstream constituent of these neuronal death signals. Detailed molecular analysis indicates that MOCA is a key molecule of the AD-relevant neuronal death signals that links the PS-mediated death signal with the APP-mediated death signal at a point between Rac1 [or Cdc42 (cell division cycle 42)] and ASK1 (apoptosis signal-regulating kinase 1).\",\n",
       "   'rel': 'increases',\n",
       "   'subject_activity': 'deg'}),\n",
       " (6,\n",
       "  7,\n",
       "  {'Subgraph': ('Beta secretase pathway',\n",
       "    'Amyloidogenic pathway',\n",
       "    'Gamma secretase pathway'),\n",
       "   'citation': ('PubMed',\n",
       "    'Cell Adh Migr. 2011 Jul-Aug;5(4):280-92. Epub 2011 Jul 1.',\n",
       "    '21785276'),\n",
       "   'evidence': 'The amyloid-beta (AÃ\\x8eÂ²) peptide is the derivative of amyloid precursor protein (APP) generated through sequential proteolytic processing by Ã\\x8eÂ²- and Ã\\x8eÂ³-secretases. Excessive accumulation of AÃ\\x8eÂ², the main constituent of amyloid plaques, has been implicated in the etiology of Alzheimer disease (AD). ',\n",
       "   'rel': 'increases'}),\n",
       " (6,\n",
       "  7,\n",
       "  {'DiseaseState': ('Mild AD',),\n",
       "   'FDASTATUS': ('Phase 3',),\n",
       "   'Subgraph': ('Inflammatory response pathway',\n",
       "    'Non-amyloidogenic pathway',\n",
       "    'Gamma secretase pathway'),\n",
       "   'citation': ('PubMed', 'J Alzheimers Dis. 2009;17(4):757-60', '19542625'),\n",
       "   'evidence': \"There has been a lot of disappointment surrounding the recent failure of the largest ever study in patients with Alzheimer's disease (AD) with tarenflurbil. A straightforward explanation of this failure is that the gamma-secretase is not the right target for therapy or that, in general, blocking A beta does not produce clinical benefits in AD\",\n",
       "   'rel': 'causesNoChange'}),\n",
       " (279,\n",
       "  2,\n",
       "  {'Subgraph': ('Notch pathway', 'Gamma secretase pathway'),\n",
       "   'citation': ('PubMed',\n",
       "    'J Biol Chem. 2003 May 30;278(22):20117-23. Epub 2003 Mar 14.',\n",
       "    '12639958'),\n",
       "   'evidence': \"PEN-2 is an integral membrane protein that is a necessary component of the gamma-secretase complex, which is central in the pathogenesis of Alzheimer's disease and is also required for Notch signaling. In the absence of PEN-2, Notch signaling fails to guide normal development in Caenorhabditis elegans, and amyloid beta peptide is not generated from the amyloid precursor protein\",\n",
       "   'rel': 'positiveCorrelation'}),\n",
       " (611,\n",
       "  6,\n",
       "  {'Subgraph': ('Beta secretase pathway',\n",
       "    'Amyloidogenic pathway',\n",
       "    'Gamma secretase pathway'),\n",
       "   'citation': ('PubMed', 'Neurosci Bull. 2010 Aug;26(4):338-44.', '20651816'),\n",
       "   'evidence': \"It is believed that amyloid-beta peptide (Abeta) plays a central role in the pathogenesis of Alzheimer's disease (AD). Thus, the process of amyloid precursor protein (APP) cleavage is a key event and has raised much attention in the field of AD research. It is proposed that APP, beta- and gamma-secretases are all located on the lipid raft, and the meeting of them is an indispensable step for Abeta generation. Endocytosis can lead to clustering of APP, beta- and gamma-secretases from separate smaller lipid rafts into a larger one. On the other hand, for myristoylated alanine-rich C kinase substrate (MARCKS), phosphorylation by protein kinase C (PKC) or interaction with Ca(2+) can lead to its release from membrane into cytoplasm. This process induces the release of actins and phosphatidylinositol 4, 5-bisphosphate (PIP2), which are important factors for endocytosis. Thus, the present review proposes that MARCKS may be implicated in Abeta generation, by modulating free PIP2 level and actin movement, causing endocytosis\",\n",
       "   'rel': 'directlyIncreases'}),\n",
       " (7,\n",
       "  5,\n",
       "  {'Subgraph': ('Amyloidogenic pathway', 'Gamma secretase pathway'),\n",
       "   'citation': ('PubMed', 'J Biol Chem2007', '17314098'),\n",
       "   'evidence': 'The amyloid precursor protein (APP) and the presenilins 1 and 2 are genetically linked to the development of familial Alzheimer disease.',\n",
       "   'rel': 'association'}),\n",
       " (1534,\n",
       "  6,\n",
       "  {'Subgraph': ('Notch pathway',\n",
       "    'Non-amyloidogenic pathway',\n",
       "    'Gamma secretase pathway'),\n",
       "   'UserdefinedSpecies': ('C elegans',),\n",
       "   'citation': ('PubMed',\n",
       "    'J Biol Chem. 2003 May 30;278(22):20117-23. Epub 2003 Mar 14.',\n",
       "    '12639958'),\n",
       "   'evidence': \"PEN-2 is an integral membrane protein that is a necessary component of the gamma-secretase complex, which is central in the pathogenesis of Alzheimer's disease and is also required for Notch signaling. In the absence of PEN-2, Notch signaling fails to guide normal development in Caenorhabditis elegans, and amyloid beta peptide is not generated from the amyloid precursor protein\",\n",
       "   'rel': 'decreases',\n",
       "   'subject_activity': 'deg'})]"
      ]
     },
     "execution_count": 27,
     "metadata": {},
     "output_type": "execute_result"
    }
   ],
   "source": [
    "# Task 3 - \n",
    "\n",
    "def find_edge_by_attrib_key_value(graph,attribKey,attribValue=None):\n",
    "    edge_list = []\n",
    "    if attribValue is None:\n",
    "        for item in graph_100.edges(data=True):\n",
    "                if attribKey in item[2]:\n",
    "                    edge_list.append(item)\n",
    "    else:            \n",
    "        for item in graph_100.edges(data=True):\n",
    "            if attribKey in item[2]:\n",
    "                if attribValue in item[2][attribKey]:\n",
    "                    edge_list.append(item)                    \n",
    "    return edge_list if edge_list else False\n",
    "\n",
    "\n",
    "#find_edge_by_attrib_key_value(graph_100, 'MeSHDisease', 'Alzheimer Disease')\n",
    "find_edge_by_attrib_key_value(graph_100,'Subgraph','Gamma secretase pathway')"
   ]
  },
  {
   "cell_type": "code",
   "execution_count": 30,
   "metadata": {
    "collapsed": false
   },
   "outputs": [
    {
     "data": {
      "image/png": "[encoded data removed]",
      "text/plain": [
       "<matplotlib.figure.Figure at 0x9b72bf0>"
      ]
     },
     "metadata": {},
     "output_type": "display_data"
    }
   ],
   "source": [
    "#Task 4 - Shortest path for the subgraph obtained above :\n",
    "\n",
    "#build a subgraph :\n",
    "lst_edges_Gamma_Pathway = find_edge_by_attrib_key_value(graph_100,'Subgraph','Gamma secretase pathway')\n",
    "Gamma_Pathway_subgraph = nx.MultiDiGraph()\n",
    "Gamma_Pathway_subgraph.add_edges_from(lst_edges_Gamma_Pathway)\n",
    "\n",
    "#Draw the subgraph\n",
    "nx.draw(Gamma_Pathway_subgraph,with_labels=True)\n",
    "\n"
   ]
  },
  {
   "cell_type": "code",
   "execution_count": 31,
   "metadata": {
    "collapsed": false
   },
   "outputs": [
    {
     "data": {
      "text/plain": [
       "{1: {1: [1],\n",
       "  2: [1, 2],\n",
       "  4: [1, 2, 4],\n",
       "  5: [1, 2, 7, 5],\n",
       "  6: [1, 2, 6],\n",
       "  7: [1, 2, 7],\n",
       "  12: [1, 2, 12],\n",
       "  92: [1, 2, 92],\n",
       "  263: [1, 2, 263],\n",
       "  266: [1, 2, 266],\n",
       "  279: [1, 2, 279],\n",
       "  289: [1, 2, 289],\n",
       "  290: [1, 2, 290],\n",
       "  291: [1, 2, 291],\n",
       "  292: [1, 2, 292],\n",
       "  293: [1, 2, 293],\n",
       "  294: [1, 2, 294],\n",
       "  942: [1, 2, 942],\n",
       "  1534: [1, 2, 1534],\n",
       "  1537: [1, 2, 1537],\n",
       "  1828: [1, 1828],\n",
       "  2936: [1, 2, 2936],\n",
       "  2937: [1, 2, 2937],\n",
       "  11457: [1, 2, 11457]},\n",
       " 2: {2: [2],\n",
       "  4: [2, 4],\n",
       "  5: [2, 7, 5],\n",
       "  6: [2, 6],\n",
       "  7: [2, 7],\n",
       "  12: [2, 12],\n",
       "  92: [2, 92],\n",
       "  263: [2, 263],\n",
       "  266: [2, 266],\n",
       "  279: [2, 279],\n",
       "  289: [2, 289],\n",
       "  290: [2, 290],\n",
       "  291: [2, 291],\n",
       "  292: [2, 292],\n",
       "  293: [2, 293],\n",
       "  294: [2, 294],\n",
       "  942: [2, 942],\n",
       "  1534: [2, 1534],\n",
       "  1537: [2, 1537],\n",
       "  1828: [2, 1828],\n",
       "  2936: [2, 2936],\n",
       "  2937: [2, 2937],\n",
       "  11457: [2, 11457]},\n",
       " 3: {3: [3],\n",
       "  4: [3, 4],\n",
       "  5: [3, 6, 7, 5],\n",
       "  6: [3, 6],\n",
       "  7: [3, 6, 7],\n",
       "  942: [3, 942],\n",
       "  2937: [3, 6, 7, 5, 2937]},\n",
       " 4: {4: [4]},\n",
       " 5: {5: [5], 7: [5, 7], 2937: [5, 2937]},\n",
       " 6: {5: [6, 7, 5], 6: [6], 7: [6, 7], 2937: [6, 7, 5, 2937]},\n",
       " 7: {5: [7, 5], 7: [7], 2937: [7, 5, 2937]},\n",
       " 12: {12: [12]},\n",
       " 92: {92: [92]},\n",
       " 263: {263: [263]},\n",
       " 266: {266: [266]},\n",
       " 279: {2: [279, 2],\n",
       "  4: [279, 2, 4],\n",
       "  5: [279, 2, 7, 5],\n",
       "  6: [279, 2, 6],\n",
       "  7: [279, 2, 7],\n",
       "  12: [279, 2, 12],\n",
       "  92: [279, 2, 92],\n",
       "  263: [279, 2, 263],\n",
       "  266: [279, 2, 266],\n",
       "  279: [279],\n",
       "  289: [279, 2, 289],\n",
       "  290: [279, 2, 290],\n",
       "  291: [279, 2, 291],\n",
       "  292: [279, 2, 292],\n",
       "  293: [279, 2, 293],\n",
       "  294: [279, 2, 294],\n",
       "  942: [279, 2, 942],\n",
       "  1534: [279, 2, 1534],\n",
       "  1537: [279, 2, 1537],\n",
       "  1828: [279, 2, 1828],\n",
       "  2936: [279, 2, 2936],\n",
       "  2937: [279, 2, 2937],\n",
       "  11457: [279, 2, 11457]},\n",
       " 289: {289: [289]},\n",
       " 290: {290: [290]},\n",
       " 291: {291: [291]},\n",
       " 292: {292: [292]},\n",
       " 293: {293: [293]},\n",
       " 294: {294: [294]},\n",
       " 611: {5: [611, 6, 7, 5],\n",
       "  6: [611, 6],\n",
       "  7: [611, 6, 7],\n",
       "  611: [611],\n",
       "  2937: [611, 6, 7, 5, 2937]},\n",
       " 942: {942: [942]},\n",
       " 1534: {5: [1534, 6, 7, 5],\n",
       "  6: [1534, 6],\n",
       "  7: [1534, 6, 7],\n",
       "  1534: [1534],\n",
       "  2937: [1534, 6, 7, 5, 2937]},\n",
       " 1537: {1537: [1537]},\n",
       " 1828: {1828: [1828]},\n",
       " 2936: {2936: [2936]},\n",
       " 2937: {2937: [2937]},\n",
       " 11457: {11457: [11457]}}"
      ]
     },
     "execution_count": 31,
     "metadata": {},
     "output_type": "execute_result"
    }
   ],
   "source": [
    "\n",
    "#Find shortest path - when no source and target node is specified, \n",
    "#shortest path is found considering each node as a source and the rest as target\n",
    "nx.shortest_path(Gamma_Pathway_subgraph)"
   ]
  },
  {
   "cell_type": "code",
   "execution_count": null,
   "metadata": {
    "collapsed": true
   },
   "outputs": [],
   "source": []
  }
 ],
 "metadata": {
  "kernelspec": {
   "display_name": "Python 3",
   "language": "python",
   "name": "python3"
  },
  "language_info": {
   "codemirror_mode": {
    "name": "ipython",
    "version": 3
   },
   "file_extension": ".py",
   "mimetype": "text/x-python",
   "name": "python",
   "nbconvert_exporter": "python",
   "pygments_lexer": "ipython3",
   "version": "3.5.2"
  }
 },
 "nbformat": 4,
 "nbformat_minor": 1
}
